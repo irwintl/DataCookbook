{
 "cells": [
  {
   "cell_type": "markdown",
   "id": "ff35ccd3",
   "metadata": {},
   "source": [
    "# Data Science Cookbook\n",
    "### Thomas Irwin\n",
    "\n",
    "\n",
    "This Cookbook is divided into 3 Sections:\n",
    "\n",
    "1. Data Basics/Cleaning\n",
    "2. Statistical Information\n",
    "3. Visualization\n",
    "4. Example done multiple ways\n",
    "\n",
    "I will be using the \"Adoptable_Pets.csv\" which includes data on animals that are ready to be adopted from the Montgomery County Animal Services and Adoption Center in MD. This data is found on data.gov. More information on this dataset can be found [here](https://catalog.data.gov/dataset/adoptable-pets). \n",
    "\n",
    "\n",
    "Here are the topics covered in each section:\n",
    "\n",
    "1. Data Basics/Cleaning \n",
    "    \n",
    "    a. Importing Pandas\n",
    "    \n",
    "    b. Reading CSV\n",
    "    \n",
    "    c. Print top rows of data (head)\n",
    "    \n",
    "    d. Shape of data, number of columns and rows\n",
    "    \n",
    "    e. List of all column names\n",
    "    \n",
    "    f. Isolating a column\n",
    "    \n",
    "    g. Isolating multiple columns\n",
    "    \n",
    "    h. Selecting a specific row\n",
    "    \n",
    "    i. Selecting consecutive rows\n",
    "    \n",
    "    j. Subsetting data on a single condition\n",
    "    \n",
    "    k. Subsetting data with two conditions using \"and\" operator (&)\n",
    "    \n",
    "    l. Subsetting data with two conditions using \"or\" operator (|)\n",
    "    \n",
    "    m. Creating a new column in a dataframe\n",
    "    \n",
    "    n. Performing a simple merge\n",
    "    \n",
    "    o. Using \"apply\" function to convert to string\n",
    "    \n",
    "    p. Using \"to_datetime\" to convert a string into a date time object \n",
    "    \n",
    "    q. Sorting values\n",
    "    \n",
    "    r. Using \".idxmax()\" to find the index of a row that has a max value\n",
    "    \n",
    "    s. Using \".groupby()\" to group by similar values\n",
    "    \n",
    " 2. Statistical Information\n",
    "\n",
    "    a. Using \"describe\" to produce statistical summaries on number\n",
    "    \n",
    "    b. Finding the mean of a column\n",
    "    \n",
    "    c. Finding the median of a column\n",
    "    \n",
    "    d. Finding the value counts for a column\n",
    "    \n",
    " 3. Visualizations\n",
    " \n",
    "     a. Importing matplotlib\n",
    "     \n",
    "     b. Creating a histogram\n",
    "     \n",
    "     c. Creating a line plot\n",
    "     \n",
    "     d. Creating a dot plot\n",
    "     \n",
    "     e. Creating a box plot\n",
    " \n",
    " 4. Examples/Combining Techniques - Each Done Two Ways\n",
    " \n",
    "     a. Ex 1: Finding the max value of a column while meeting certain criteria\n",
    "     \n",
    "     b. Ex 2: Finding largest difference between two columns \n",
    "     \n",
    "     c. Ex 3: Grouping with Numeric Values\n",
    "     \n",
    "     d. Ex 4: Grouping with Datetime Values\n",
    "     \n",
    "\n",
    "## Part 1: Data Basics/Cleaning\n",
    "\n",
    "First, we will understand the basics of a Pandas dataframe and how to navigate it."
   ]
  },
  {
   "cell_type": "code",
   "execution_count": 124,
   "id": "2ac4f998",
   "metadata": {},
   "outputs": [],
   "source": [
    "#First, import the necessary packages and our dataset. \n",
    "#importing pandas as pd\n",
    "import pandas as pd"
   ]
  },
  {
   "cell_type": "code",
   "execution_count": 125,
   "id": "4b24056e",
   "metadata": {},
   "outputs": [],
   "source": [
    "#Next, importing our data.\n",
    "animal_data = pd.read_csv(\"https://raw.githubusercontent.com/irwintl/DataCookbook/main/Adoptable_Pets.csv\")"
   ]
  },
  {
   "cell_type": "markdown",
   "id": "7460bffa",
   "metadata": {},
   "source": [
    "A pandas dataframe is essentially a table of data, with each column being a variable and each row being an instance. In our example, each row consists of an animal and each column holds information about that animal. A column might hold all animals' names, their respective sizes, or what species they are. \n",
    "\n",
    "We can print the first few rows of a dataframe with the \".head()\" method. We can also set the number of rows printed by putting a positive integer into the method."
   ]
  },
  {
   "cell_type": "code",
   "execution_count": 126,
   "id": "89879539",
   "metadata": {},
   "outputs": [
    {
     "data": {
      "text/html": [
       "<div>\n",
       "<style scoped>\n",
       "    .dataframe tbody tr th:only-of-type {\n",
       "        vertical-align: middle;\n",
       "    }\n",
       "\n",
       "    .dataframe tbody tr th {\n",
       "        vertical-align: top;\n",
       "    }\n",
       "\n",
       "    .dataframe thead th {\n",
       "        text-align: right;\n",
       "    }\n",
       "</style>\n",
       "<table border=\"1\" class=\"dataframe\">\n",
       "  <thead>\n",
       "    <tr style=\"text-align: right;\">\n",
       "      <th></th>\n",
       "      <th>Animal ID</th>\n",
       "      <th>Intake Type</th>\n",
       "      <th>In Date</th>\n",
       "      <th>Pet name</th>\n",
       "      <th>Animal Type</th>\n",
       "      <th>Pet Age</th>\n",
       "      <th>Pet Size</th>\n",
       "      <th>Color</th>\n",
       "      <th>Breed</th>\n",
       "      <th>Sex</th>\n",
       "      <th>URL Link</th>\n",
       "      <th>Crossing</th>\n",
       "    </tr>\n",
       "  </thead>\n",
       "  <tbody>\n",
       "    <tr>\n",
       "      <th>0</th>\n",
       "      <td>A489026</td>\n",
       "      <td>CONFISCATE</td>\n",
       "      <td>03/18/2023</td>\n",
       "      <td>ROSCOE</td>\n",
       "      <td>DOG</td>\n",
       "      <td>5 YEARS</td>\n",
       "      <td>MED</td>\n",
       "      <td>BROWN / WHITE</td>\n",
       "      <td>AM PIT BULL TER</td>\n",
       "      <td>N</td>\n",
       "      <td>http://www.petharbor.com/get_image.asp?res=DET...</td>\n",
       "      <td>NaN</td>\n",
       "    </tr>\n",
       "    <tr>\n",
       "      <th>1</th>\n",
       "      <td>A504446</td>\n",
       "      <td>RETURN</td>\n",
       "      <td>06/10/2023</td>\n",
       "      <td>ROCKY</td>\n",
       "      <td>OTHER</td>\n",
       "      <td>1 YEAR 1 MONTH</td>\n",
       "      <td>MED</td>\n",
       "      <td>TAN / BLACK</td>\n",
       "      <td>GUINEA PIG</td>\n",
       "      <td>M</td>\n",
       "      <td>http://www.petharbor.com/get_image.asp?res=DET...</td>\n",
       "      <td>NaN</td>\n",
       "    </tr>\n",
       "    <tr>\n",
       "      <th>2</th>\n",
       "      <td>A501998</td>\n",
       "      <td>RETURN</td>\n",
       "      <td>04/25/2023</td>\n",
       "      <td>*SILVER</td>\n",
       "      <td>CAT</td>\n",
       "      <td>10 YEARS</td>\n",
       "      <td>MED</td>\n",
       "      <td>BLACK</td>\n",
       "      <td>DOMESTIC SH</td>\n",
       "      <td>N</td>\n",
       "      <td>http://www.petharbor.com/get_image.asp?res=DET...</td>\n",
       "      <td>NaN</td>\n",
       "    </tr>\n",
       "  </tbody>\n",
       "</table>\n",
       "</div>"
      ],
      "text/plain": [
       "  Animal ID Intake Type     In Date Pet name Animal Type         Pet Age  \\\n",
       "0   A489026  CONFISCATE  03/18/2023   ROSCOE         DOG         5 YEARS   \n",
       "1   A504446      RETURN  06/10/2023    ROCKY       OTHER  1 YEAR 1 MONTH   \n",
       "2   A501998      RETURN  04/25/2023  *SILVER         CAT        10 YEARS   \n",
       "\n",
       "  Pet Size          Color            Breed Sex  \\\n",
       "0      MED  BROWN / WHITE  AM PIT BULL TER   N   \n",
       "1      MED    TAN / BLACK       GUINEA PIG   M   \n",
       "2      MED          BLACK      DOMESTIC SH   N   \n",
       "\n",
       "                                           URL Link  Crossing  \n",
       "0  http://www.petharbor.com/get_image.asp?res=DET...      NaN  \n",
       "1  http://www.petharbor.com/get_image.asp?res=DET...      NaN  \n",
       "2  http://www.petharbor.com/get_image.asp?res=DET...      NaN  "
      ]
     },
     "execution_count": 126,
     "metadata": {},
     "output_type": "execute_result"
    }
   ],
   "source": [
    "animal_data.head(3)"
   ]
  },
  {
   "cell_type": "markdown",
   "id": "be51d9ce",
   "metadata": {},
   "source": [
    "We can also print the shape of the data, which will tell us the number of rows and the number of columns. "
   ]
  },
  {
   "cell_type": "code",
   "execution_count": 127,
   "id": "a32137e7",
   "metadata": {},
   "outputs": [
    {
     "data": {
      "text/plain": [
       "(70, 12)"
      ]
     },
     "execution_count": 127,
     "metadata": {},
     "output_type": "execute_result"
    }
   ],
   "source": [
    "animal_data.shape"
   ]
  },
  {
   "cell_type": "markdown",
   "id": "31ea6a52",
   "metadata": {},
   "source": [
    "We can print the names of all columns"
   ]
  },
  {
   "cell_type": "code",
   "execution_count": 128,
   "id": "4c6defe8",
   "metadata": {},
   "outputs": [
    {
     "data": {
      "text/plain": [
       "Index(['Animal ID', 'Intake Type', 'In Date', 'Pet name', 'Animal Type',\n",
       "       'Pet Age', 'Pet Size', 'Color', 'Breed', 'Sex', 'URL Link ',\n",
       "       'Crossing'],\n",
       "      dtype='object')"
      ]
     },
     "execution_count": 128,
     "metadata": {},
     "output_type": "execute_result"
    }
   ],
   "source": [
    "animal_data.columns"
   ]
  },
  {
   "cell_type": "markdown",
   "id": "abb45194",
   "metadata": {},
   "source": [
    "Creating subsets of a pandas dataframe can be very helpful. First, to select a single row you can use the following format:"
   ]
  },
  {
   "cell_type": "code",
   "execution_count": 129,
   "id": "0ba78ff3",
   "metadata": {},
   "outputs": [
    {
     "data": {
      "text/plain": [
       "0       ROSCOE\n",
       "1        ROCKY\n",
       "2      *SILVER\n",
       "3         ALEX\n",
       "4         KOPI\n",
       "        ...   \n",
       "65       *HANK\n",
       "66      CALLIE\n",
       "67    *NIBBLES\n",
       "68        *BOB\n",
       "69        MARS\n",
       "Name: Pet name, Length: 70, dtype: object"
      ]
     },
     "execution_count": 129,
     "metadata": {},
     "output_type": "execute_result"
    }
   ],
   "source": [
    "# data[\"ColumnName\"]\n",
    "animal_data[\"Pet name\"]"
   ]
  },
  {
   "cell_type": "markdown",
   "id": "6e9a66eb",
   "metadata": {},
   "source": [
    "We can also isolate multiple columns:"
   ]
  },
  {
   "cell_type": "code",
   "execution_count": 130,
   "id": "2f07b527",
   "metadata": {},
   "outputs": [
    {
     "data": {
      "text/html": [
       "<div>\n",
       "<style scoped>\n",
       "    .dataframe tbody tr th:only-of-type {\n",
       "        vertical-align: middle;\n",
       "    }\n",
       "\n",
       "    .dataframe tbody tr th {\n",
       "        vertical-align: top;\n",
       "    }\n",
       "\n",
       "    .dataframe thead th {\n",
       "        text-align: right;\n",
       "    }\n",
       "</style>\n",
       "<table border=\"1\" class=\"dataframe\">\n",
       "  <thead>\n",
       "    <tr style=\"text-align: right;\">\n",
       "      <th></th>\n",
       "      <th>Pet name</th>\n",
       "      <th>In Date</th>\n",
       "    </tr>\n",
       "  </thead>\n",
       "  <tbody>\n",
       "    <tr>\n",
       "      <th>0</th>\n",
       "      <td>ROSCOE</td>\n",
       "      <td>03/18/2023</td>\n",
       "    </tr>\n",
       "    <tr>\n",
       "      <th>1</th>\n",
       "      <td>ROCKY</td>\n",
       "      <td>06/10/2023</td>\n",
       "    </tr>\n",
       "    <tr>\n",
       "      <th>2</th>\n",
       "      <td>*SILVER</td>\n",
       "      <td>04/25/2023</td>\n",
       "    </tr>\n",
       "    <tr>\n",
       "      <th>3</th>\n",
       "      <td>ALEX</td>\n",
       "      <td>05/30/2023</td>\n",
       "    </tr>\n",
       "    <tr>\n",
       "      <th>4</th>\n",
       "      <td>KOPI</td>\n",
       "      <td>06/01/2023</td>\n",
       "    </tr>\n",
       "    <tr>\n",
       "      <th>...</th>\n",
       "      <td>...</td>\n",
       "      <td>...</td>\n",
       "    </tr>\n",
       "    <tr>\n",
       "      <th>65</th>\n",
       "      <td>*HANK</td>\n",
       "      <td>01/06/2023</td>\n",
       "    </tr>\n",
       "    <tr>\n",
       "      <th>66</th>\n",
       "      <td>CALLIE</td>\n",
       "      <td>05/04/2023</td>\n",
       "    </tr>\n",
       "    <tr>\n",
       "      <th>67</th>\n",
       "      <td>*NIBBLES</td>\n",
       "      <td>01/06/2023</td>\n",
       "    </tr>\n",
       "    <tr>\n",
       "      <th>68</th>\n",
       "      <td>*BOB</td>\n",
       "      <td>01/12/2023</td>\n",
       "    </tr>\n",
       "    <tr>\n",
       "      <th>69</th>\n",
       "      <td>MARS</td>\n",
       "      <td>04/15/2023</td>\n",
       "    </tr>\n",
       "  </tbody>\n",
       "</table>\n",
       "<p>70 rows × 2 columns</p>\n",
       "</div>"
      ],
      "text/plain": [
       "    Pet name     In Date\n",
       "0     ROSCOE  03/18/2023\n",
       "1      ROCKY  06/10/2023\n",
       "2    *SILVER  04/25/2023\n",
       "3       ALEX  05/30/2023\n",
       "4       KOPI  06/01/2023\n",
       "..       ...         ...\n",
       "65     *HANK  01/06/2023\n",
       "66    CALLIE  05/04/2023\n",
       "67  *NIBBLES  01/06/2023\n",
       "68      *BOB  01/12/2023\n",
       "69      MARS  04/15/2023\n",
       "\n",
       "[70 rows x 2 columns]"
      ]
     },
     "execution_count": 130,
     "metadata": {},
     "output_type": "execute_result"
    }
   ],
   "source": [
    "animal_data[[\"Pet name\", \"In Date\"]]"
   ]
  },
  {
   "cell_type": "markdown",
   "id": "e8731d33",
   "metadata": {},
   "source": [
    "Similarly, we can access specific row with the following code:"
   ]
  },
  {
   "cell_type": "code",
   "execution_count": 131,
   "id": "fbb461c1",
   "metadata": {},
   "outputs": [
    {
     "data": {
      "text/plain": [
       "Animal ID                                                A497842\n",
       "Intake Type                                            OWNER SUR\n",
       "In Date                                               05/22/2023\n",
       "Pet name                                                 PHOENIX\n",
       "Animal Type                                                  DOG\n",
       "Pet Age                                                  4 YEARS\n",
       "Pet Size                                                   LARGE\n",
       "Color                                                TAN / WHITE\n",
       "Breed                                            AM PIT BULL TER\n",
       "Sex                                                            S\n",
       "URL Link       http://www.petharbor.com/get_image.asp?res=DET...\n",
       "Crossing                                                     NaN\n",
       "Name: 44, dtype: object"
      ]
     },
     "execution_count": 131,
     "metadata": {},
     "output_type": "execute_result"
    }
   ],
   "source": [
    "# we insert an index (kind of like row number) to do this. Here, we are insert 44 as the index.\n",
    "\n",
    "animal_data.iloc[44]"
   ]
  },
  {
   "cell_type": "code",
   "execution_count": 132,
   "id": "791425fb",
   "metadata": {},
   "outputs": [
    {
     "data": {
      "text/html": [
       "<div>\n",
       "<style scoped>\n",
       "    .dataframe tbody tr th:only-of-type {\n",
       "        vertical-align: middle;\n",
       "    }\n",
       "\n",
       "    .dataframe tbody tr th {\n",
       "        vertical-align: top;\n",
       "    }\n",
       "\n",
       "    .dataframe thead th {\n",
       "        text-align: right;\n",
       "    }\n",
       "</style>\n",
       "<table border=\"1\" class=\"dataframe\">\n",
       "  <thead>\n",
       "    <tr style=\"text-align: right;\">\n",
       "      <th></th>\n",
       "      <th>Animal ID</th>\n",
       "      <th>Intake Type</th>\n",
       "      <th>In Date</th>\n",
       "      <th>Pet name</th>\n",
       "      <th>Animal Type</th>\n",
       "      <th>Pet Age</th>\n",
       "      <th>Pet Size</th>\n",
       "      <th>Color</th>\n",
       "      <th>Breed</th>\n",
       "      <th>Sex</th>\n",
       "      <th>URL Link</th>\n",
       "      <th>Crossing</th>\n",
       "    </tr>\n",
       "  </thead>\n",
       "  <tbody>\n",
       "    <tr>\n",
       "      <th>10</th>\n",
       "      <td>A505385</td>\n",
       "      <td>OWNER SUR</td>\n",
       "      <td>05/27/2023</td>\n",
       "      <td>MITTENS</td>\n",
       "      <td>CAT</td>\n",
       "      <td>1 YEAR 1 MONTH</td>\n",
       "      <td>MED</td>\n",
       "      <td>DIL TORTIE</td>\n",
       "      <td>DOMESTIC SH</td>\n",
       "      <td>S</td>\n",
       "      <td>http://www.petharbor.com/get_image.asp?res=DET...</td>\n",
       "      <td>NaN</td>\n",
       "    </tr>\n",
       "    <tr>\n",
       "      <th>11</th>\n",
       "      <td>A483605</td>\n",
       "      <td>OWNER SUR</td>\n",
       "      <td>05/05/2023</td>\n",
       "      <td>MOZART</td>\n",
       "      <td>CAT</td>\n",
       "      <td>9 YEARS</td>\n",
       "      <td>MED</td>\n",
       "      <td>BRN TABBY</td>\n",
       "      <td>DOMESTIC SH</td>\n",
       "      <td>N</td>\n",
       "      <td>http://www.petharbor.com/get_image.asp?res=DET...</td>\n",
       "      <td>NaN</td>\n",
       "    </tr>\n",
       "    <tr>\n",
       "      <th>12</th>\n",
       "      <td>A505098</td>\n",
       "      <td>OWNER SUR</td>\n",
       "      <td>05/20/2023</td>\n",
       "      <td>CHIEF</td>\n",
       "      <td>DOG</td>\n",
       "      <td>1 YEAR 1 MONTH</td>\n",
       "      <td>LARGE</td>\n",
       "      <td>BROWN / WHITE</td>\n",
       "      <td>AM PIT BULL TER</td>\n",
       "      <td>N</td>\n",
       "      <td>http://www.petharbor.com/get_image.asp?res=DET...</td>\n",
       "      <td>NaN</td>\n",
       "    </tr>\n",
       "    <tr>\n",
       "      <th>13</th>\n",
       "      <td>A406310</td>\n",
       "      <td>CONFISCATE</td>\n",
       "      <td>03/18/2023</td>\n",
       "      <td>CHARLIE</td>\n",
       "      <td>DOG</td>\n",
       "      <td>7 YEARS</td>\n",
       "      <td>MED</td>\n",
       "      <td>WHITE / BROWN</td>\n",
       "      <td>AM PIT BULL TER / BOXER</td>\n",
       "      <td>N</td>\n",
       "      <td>http://www.petharbor.com/get_image.asp?res=DET...</td>\n",
       "      <td>NaN</td>\n",
       "    </tr>\n",
       "  </tbody>\n",
       "</table>\n",
       "</div>"
      ],
      "text/plain": [
       "   Animal ID Intake Type     In Date Pet name Animal Type         Pet Age  \\\n",
       "10   A505385   OWNER SUR  05/27/2023  MITTENS         CAT  1 YEAR 1 MONTH   \n",
       "11   A483605   OWNER SUR  05/05/2023   MOZART         CAT         9 YEARS   \n",
       "12   A505098   OWNER SUR  05/20/2023    CHIEF         DOG  1 YEAR 1 MONTH   \n",
       "13   A406310  CONFISCATE  03/18/2023  CHARLIE         DOG         7 YEARS   \n",
       "\n",
       "   Pet Size          Color                    Breed Sex  \\\n",
       "10      MED     DIL TORTIE              DOMESTIC SH   S   \n",
       "11      MED      BRN TABBY              DOMESTIC SH   N   \n",
       "12    LARGE  BROWN / WHITE          AM PIT BULL TER   N   \n",
       "13      MED  WHITE / BROWN  AM PIT BULL TER / BOXER   N   \n",
       "\n",
       "                                            URL Link  Crossing  \n",
       "10  http://www.petharbor.com/get_image.asp?res=DET...      NaN  \n",
       "11  http://www.petharbor.com/get_image.asp?res=DET...      NaN  \n",
       "12  http://www.petharbor.com/get_image.asp?res=DET...      NaN  \n",
       "13  http://www.petharbor.com/get_image.asp?res=DET...      NaN  "
      ]
     },
     "execution_count": 132,
     "metadata": {},
     "output_type": "execute_result"
    }
   ],
   "source": [
    "#Similarly, we can get a set of consecutive rows with the following code:\n",
    "animal_data.iloc[10:14]"
   ]
  },
  {
   "cell_type": "markdown",
   "id": "a95f0c3a",
   "metadata": {},
   "source": [
    "We can also subset the data to select instances which meet certain properties. For example, if we want the data of only the cats, we can use the following code:"
   ]
  },
  {
   "cell_type": "code",
   "execution_count": 133,
   "id": "9540e23c",
   "metadata": {},
   "outputs": [
    {
     "data": {
      "text/html": [
       "<div>\n",
       "<style scoped>\n",
       "    .dataframe tbody tr th:only-of-type {\n",
       "        vertical-align: middle;\n",
       "    }\n",
       "\n",
       "    .dataframe tbody tr th {\n",
       "        vertical-align: top;\n",
       "    }\n",
       "\n",
       "    .dataframe thead th {\n",
       "        text-align: right;\n",
       "    }\n",
       "</style>\n",
       "<table border=\"1\" class=\"dataframe\">\n",
       "  <thead>\n",
       "    <tr style=\"text-align: right;\">\n",
       "      <th></th>\n",
       "      <th>Animal ID</th>\n",
       "      <th>Intake Type</th>\n",
       "      <th>In Date</th>\n",
       "      <th>Pet name</th>\n",
       "      <th>Animal Type</th>\n",
       "      <th>Pet Age</th>\n",
       "      <th>Pet Size</th>\n",
       "      <th>Color</th>\n",
       "      <th>Breed</th>\n",
       "      <th>Sex</th>\n",
       "      <th>URL Link</th>\n",
       "      <th>Crossing</th>\n",
       "    </tr>\n",
       "  </thead>\n",
       "  <tbody>\n",
       "    <tr>\n",
       "      <th>2</th>\n",
       "      <td>A501998</td>\n",
       "      <td>RETURN</td>\n",
       "      <td>04/25/2023</td>\n",
       "      <td>*SILVER</td>\n",
       "      <td>CAT</td>\n",
       "      <td>10 YEARS</td>\n",
       "      <td>MED</td>\n",
       "      <td>BLACK</td>\n",
       "      <td>DOMESTIC SH</td>\n",
       "      <td>N</td>\n",
       "      <td>http://www.petharbor.com/get_image.asp?res=DET...</td>\n",
       "      <td>NaN</td>\n",
       "    </tr>\n",
       "    <tr>\n",
       "      <th>3</th>\n",
       "      <td>A505490</td>\n",
       "      <td>OWNER SUR</td>\n",
       "      <td>05/30/2023</td>\n",
       "      <td>ALEX</td>\n",
       "      <td>CAT</td>\n",
       "      <td>6 YEARS</td>\n",
       "      <td>MED</td>\n",
       "      <td>BLACK</td>\n",
       "      <td>DOMESTIC SH</td>\n",
       "      <td>N</td>\n",
       "      <td>http://www.petharbor.com/get_image.asp?res=DET...</td>\n",
       "      <td>NaN</td>\n",
       "    </tr>\n",
       "    <tr>\n",
       "      <th>10</th>\n",
       "      <td>A505385</td>\n",
       "      <td>OWNER SUR</td>\n",
       "      <td>05/27/2023</td>\n",
       "      <td>MITTENS</td>\n",
       "      <td>CAT</td>\n",
       "      <td>1 YEAR 1 MONTH</td>\n",
       "      <td>MED</td>\n",
       "      <td>DIL TORTIE</td>\n",
       "      <td>DOMESTIC SH</td>\n",
       "      <td>S</td>\n",
       "      <td>http://www.petharbor.com/get_image.asp?res=DET...</td>\n",
       "      <td>NaN</td>\n",
       "    </tr>\n",
       "  </tbody>\n",
       "</table>\n",
       "</div>"
      ],
      "text/plain": [
       "   Animal ID Intake Type     In Date Pet name Animal Type         Pet Age  \\\n",
       "2    A501998      RETURN  04/25/2023  *SILVER         CAT        10 YEARS   \n",
       "3    A505490   OWNER SUR  05/30/2023     ALEX         CAT         6 YEARS   \n",
       "10   A505385   OWNER SUR  05/27/2023  MITTENS         CAT  1 YEAR 1 MONTH   \n",
       "\n",
       "   Pet Size       Color        Breed Sex  \\\n",
       "2       MED       BLACK  DOMESTIC SH   N   \n",
       "3       MED       BLACK  DOMESTIC SH   N   \n",
       "10      MED  DIL TORTIE  DOMESTIC SH   S   \n",
       "\n",
       "                                            URL Link  Crossing  \n",
       "2   http://www.petharbor.com/get_image.asp?res=DET...      NaN  \n",
       "3   http://www.petharbor.com/get_image.asp?res=DET...      NaN  \n",
       "10  http://www.petharbor.com/get_image.asp?res=DET...      NaN  "
      ]
     },
     "execution_count": 133,
     "metadata": {},
     "output_type": "execute_result"
    }
   ],
   "source": [
    "# the format is:\n",
    "# data[data[\"ColumnName\"] = Desired Value]\n",
    "\n",
    "cats = animal_data[animal_data[\"Animal Type\"] == \"CAT\"]\n",
    "cats.head(3)"
   ]
  },
  {
   "cell_type": "markdown",
   "id": "c3eac71a",
   "metadata": {},
   "source": [
    "We can also use \"or\" and \"and\" to subset on various conditions:"
   ]
  },
  {
   "cell_type": "code",
   "execution_count": 134,
   "id": "e1c7ff7e",
   "metadata": {},
   "outputs": [
    {
     "data": {
      "text/html": [
       "<div>\n",
       "<style scoped>\n",
       "    .dataframe tbody tr th:only-of-type {\n",
       "        vertical-align: middle;\n",
       "    }\n",
       "\n",
       "    .dataframe tbody tr th {\n",
       "        vertical-align: top;\n",
       "    }\n",
       "\n",
       "    .dataframe thead th {\n",
       "        text-align: right;\n",
       "    }\n",
       "</style>\n",
       "<table border=\"1\" class=\"dataframe\">\n",
       "  <thead>\n",
       "    <tr style=\"text-align: right;\">\n",
       "      <th></th>\n",
       "      <th>Animal ID</th>\n",
       "      <th>Intake Type</th>\n",
       "      <th>In Date</th>\n",
       "      <th>Pet name</th>\n",
       "      <th>Animal Type</th>\n",
       "      <th>Pet Age</th>\n",
       "      <th>Pet Size</th>\n",
       "      <th>Color</th>\n",
       "      <th>Breed</th>\n",
       "      <th>Sex</th>\n",
       "      <th>URL Link</th>\n",
       "      <th>Crossing</th>\n",
       "    </tr>\n",
       "  </thead>\n",
       "  <tbody>\n",
       "    <tr>\n",
       "      <th>2</th>\n",
       "      <td>A501998</td>\n",
       "      <td>RETURN</td>\n",
       "      <td>04/25/2023</td>\n",
       "      <td>*SILVER</td>\n",
       "      <td>CAT</td>\n",
       "      <td>10 YEARS</td>\n",
       "      <td>MED</td>\n",
       "      <td>BLACK</td>\n",
       "      <td>DOMESTIC SH</td>\n",
       "      <td>N</td>\n",
       "      <td>http://www.petharbor.com/get_image.asp?res=DET...</td>\n",
       "      <td>NaN</td>\n",
       "    </tr>\n",
       "    <tr>\n",
       "      <th>3</th>\n",
       "      <td>A505490</td>\n",
       "      <td>OWNER SUR</td>\n",
       "      <td>05/30/2023</td>\n",
       "      <td>ALEX</td>\n",
       "      <td>CAT</td>\n",
       "      <td>6 YEARS</td>\n",
       "      <td>MED</td>\n",
       "      <td>BLACK</td>\n",
       "      <td>DOMESTIC SH</td>\n",
       "      <td>N</td>\n",
       "      <td>http://www.petharbor.com/get_image.asp?res=DET...</td>\n",
       "      <td>NaN</td>\n",
       "    </tr>\n",
       "    <tr>\n",
       "      <th>66</th>\n",
       "      <td>A301283</td>\n",
       "      <td>OWNER SUR</td>\n",
       "      <td>05/04/2023</td>\n",
       "      <td>CALLIE</td>\n",
       "      <td>CAT</td>\n",
       "      <td>17 YEARS</td>\n",
       "      <td>SMALL</td>\n",
       "      <td>BLACK</td>\n",
       "      <td>DOMESTIC SH</td>\n",
       "      <td>S</td>\n",
       "      <td>http://www.petharbor.com/get_image.asp?res=DET...</td>\n",
       "      <td>NaN</td>\n",
       "    </tr>\n",
       "  </tbody>\n",
       "</table>\n",
       "</div>"
      ],
      "text/plain": [
       "   Animal ID Intake Type     In Date Pet name Animal Type   Pet Age Pet Size  \\\n",
       "2    A501998      RETURN  04/25/2023  *SILVER         CAT  10 YEARS      MED   \n",
       "3    A505490   OWNER SUR  05/30/2023     ALEX         CAT   6 YEARS      MED   \n",
       "66   A301283   OWNER SUR  05/04/2023   CALLIE         CAT  17 YEARS    SMALL   \n",
       "\n",
       "    Color        Breed Sex                                          URL Link   \\\n",
       "2   BLACK  DOMESTIC SH   N  http://www.petharbor.com/get_image.asp?res=DET...   \n",
       "3   BLACK  DOMESTIC SH   N  http://www.petharbor.com/get_image.asp?res=DET...   \n",
       "66  BLACK  DOMESTIC SH   S  http://www.petharbor.com/get_image.asp?res=DET...   \n",
       "\n",
       "   Crossing  \n",
       "2       NaN  \n",
       "3       NaN  \n",
       "66      NaN  "
      ]
     },
     "execution_count": 134,
     "metadata": {},
     "output_type": "execute_result"
    }
   ],
   "source": [
    "# using \"and\" to subset on 2 conditions\n",
    "\n",
    "black_cats = animal_data[(animal_data[\"Animal Type\"] == \"CAT\") & (animal_data[\"Color\"] == \"BLACK\")]\n",
    "black_cats.head()"
   ]
  },
  {
   "cell_type": "code",
   "execution_count": 135,
   "id": "de54969f",
   "metadata": {},
   "outputs": [
    {
     "data": {
      "text/html": [
       "<div>\n",
       "<style scoped>\n",
       "    .dataframe tbody tr th:only-of-type {\n",
       "        vertical-align: middle;\n",
       "    }\n",
       "\n",
       "    .dataframe tbody tr th {\n",
       "        vertical-align: top;\n",
       "    }\n",
       "\n",
       "    .dataframe thead th {\n",
       "        text-align: right;\n",
       "    }\n",
       "</style>\n",
       "<table border=\"1\" class=\"dataframe\">\n",
       "  <thead>\n",
       "    <tr style=\"text-align: right;\">\n",
       "      <th></th>\n",
       "      <th>Animal ID</th>\n",
       "      <th>Intake Type</th>\n",
       "      <th>In Date</th>\n",
       "      <th>Pet name</th>\n",
       "      <th>Animal Type</th>\n",
       "      <th>Pet Age</th>\n",
       "      <th>Pet Size</th>\n",
       "      <th>Color</th>\n",
       "      <th>Breed</th>\n",
       "      <th>Sex</th>\n",
       "      <th>URL Link</th>\n",
       "      <th>Crossing</th>\n",
       "    </tr>\n",
       "  </thead>\n",
       "  <tbody>\n",
       "    <tr>\n",
       "      <th>2</th>\n",
       "      <td>A501998</td>\n",
       "      <td>RETURN</td>\n",
       "      <td>04/25/2023</td>\n",
       "      <td>*SILVER</td>\n",
       "      <td>CAT</td>\n",
       "      <td>10 YEARS</td>\n",
       "      <td>MED</td>\n",
       "      <td>BLACK</td>\n",
       "      <td>DOMESTIC SH</td>\n",
       "      <td>N</td>\n",
       "      <td>http://www.petharbor.com/get_image.asp?res=DET...</td>\n",
       "      <td>NaN</td>\n",
       "    </tr>\n",
       "    <tr>\n",
       "      <th>3</th>\n",
       "      <td>A505490</td>\n",
       "      <td>OWNER SUR</td>\n",
       "      <td>05/30/2023</td>\n",
       "      <td>ALEX</td>\n",
       "      <td>CAT</td>\n",
       "      <td>6 YEARS</td>\n",
       "      <td>MED</td>\n",
       "      <td>BLACK</td>\n",
       "      <td>DOMESTIC SH</td>\n",
       "      <td>N</td>\n",
       "      <td>http://www.petharbor.com/get_image.asp?res=DET...</td>\n",
       "      <td>NaN</td>\n",
       "    </tr>\n",
       "    <tr>\n",
       "      <th>10</th>\n",
       "      <td>A505385</td>\n",
       "      <td>OWNER SUR</td>\n",
       "      <td>05/27/2023</td>\n",
       "      <td>MITTENS</td>\n",
       "      <td>CAT</td>\n",
       "      <td>1 YEAR 1 MONTH</td>\n",
       "      <td>MED</td>\n",
       "      <td>DIL TORTIE</td>\n",
       "      <td>DOMESTIC SH</td>\n",
       "      <td>S</td>\n",
       "      <td>http://www.petharbor.com/get_image.asp?res=DET...</td>\n",
       "      <td>NaN</td>\n",
       "    </tr>\n",
       "    <tr>\n",
       "      <th>11</th>\n",
       "      <td>A483605</td>\n",
       "      <td>OWNER SUR</td>\n",
       "      <td>05/05/2023</td>\n",
       "      <td>MOZART</td>\n",
       "      <td>CAT</td>\n",
       "      <td>9 YEARS</td>\n",
       "      <td>MED</td>\n",
       "      <td>BRN TABBY</td>\n",
       "      <td>DOMESTIC SH</td>\n",
       "      <td>N</td>\n",
       "      <td>http://www.petharbor.com/get_image.asp?res=DET...</td>\n",
       "      <td>NaN</td>\n",
       "    </tr>\n",
       "    <tr>\n",
       "      <th>14</th>\n",
       "      <td>A505475</td>\n",
       "      <td>OWNER SUR</td>\n",
       "      <td>05/30/2023</td>\n",
       "      <td>VINNIE</td>\n",
       "      <td>CAT</td>\n",
       "      <td>13 YEARS</td>\n",
       "      <td>LARGE</td>\n",
       "      <td>GRAY / WHITE</td>\n",
       "      <td>DOMESTIC SH</td>\n",
       "      <td>N</td>\n",
       "      <td>http://www.petharbor.com/get_image.asp?res=DET...</td>\n",
       "      <td>NaN</td>\n",
       "    </tr>\n",
       "  </tbody>\n",
       "</table>\n",
       "</div>"
      ],
      "text/plain": [
       "   Animal ID Intake Type     In Date Pet name Animal Type         Pet Age  \\\n",
       "2    A501998      RETURN  04/25/2023  *SILVER         CAT        10 YEARS   \n",
       "3    A505490   OWNER SUR  05/30/2023     ALEX         CAT         6 YEARS   \n",
       "10   A505385   OWNER SUR  05/27/2023  MITTENS         CAT  1 YEAR 1 MONTH   \n",
       "11   A483605   OWNER SUR  05/05/2023   MOZART         CAT         9 YEARS   \n",
       "14   A505475   OWNER SUR  05/30/2023   VINNIE         CAT        13 YEARS   \n",
       "\n",
       "   Pet Size         Color        Breed Sex  \\\n",
       "2       MED         BLACK  DOMESTIC SH   N   \n",
       "3       MED         BLACK  DOMESTIC SH   N   \n",
       "10      MED    DIL TORTIE  DOMESTIC SH   S   \n",
       "11      MED     BRN TABBY  DOMESTIC SH   N   \n",
       "14    LARGE  GRAY / WHITE  DOMESTIC SH   N   \n",
       "\n",
       "                                            URL Link  Crossing  \n",
       "2   http://www.petharbor.com/get_image.asp?res=DET...      NaN  \n",
       "3   http://www.petharbor.com/get_image.asp?res=DET...      NaN  \n",
       "10  http://www.petharbor.com/get_image.asp?res=DET...      NaN  \n",
       "11  http://www.petharbor.com/get_image.asp?res=DET...      NaN  \n",
       "14  http://www.petharbor.com/get_image.asp?res=DET...      NaN  "
      ]
     },
     "execution_count": 135,
     "metadata": {},
     "output_type": "execute_result"
    }
   ],
   "source": [
    "# using \"or\" operator\n",
    "black_or_cat = animal_data[(animal_data[\"Animal Type\"] == \"CAT\") | (animal_data[\"Color\"] == \"BLACK\")]\n",
    "black_or_cat.head()"
   ]
  },
  {
   "cell_type": "markdown",
   "id": "c8bf2eba",
   "metadata": {},
   "source": [
    "Next, we will learn to merge two datasets. As an example, I will create a new pandas dataframe called \"Cute_data\". This will have two columns, the Animal ID and \"Cute Rating\" which will be a random value from 1 to 10. "
   ]
  },
  {
   "cell_type": "code",
   "execution_count": 136,
   "id": "b66b27cc",
   "metadata": {},
   "outputs": [],
   "source": [
    "#code used to create Cute Rating\n",
    "import numpy as np\n",
    "\n",
    "Cute_data = pd.DataFrame()\n",
    "\n",
    "#Here is how you create a new column\n",
    "Cute_data[\"Animal ID\"] = animal_data[\"Animal ID\"]\n",
    "#creates a random number from 0 to 10.\n",
    "Cute_data[\"Cute Rating\"] = np.random.uniform(low = 0, high = 10, size=(len(Cute_data),))\n"
   ]
  },
  {
   "cell_type": "code",
   "execution_count": 137,
   "id": "439344db",
   "metadata": {},
   "outputs": [
    {
     "data": {
      "text/plain": [
       "(70, 2)"
      ]
     },
     "execution_count": 137,
     "metadata": {},
     "output_type": "execute_result"
    }
   ],
   "source": [
    "Cute_data.shape"
   ]
  },
  {
   "cell_type": "code",
   "execution_count": 138,
   "id": "171e8135",
   "metadata": {},
   "outputs": [
    {
     "data": {
      "text/html": [
       "<div>\n",
       "<style scoped>\n",
       "    .dataframe tbody tr th:only-of-type {\n",
       "        vertical-align: middle;\n",
       "    }\n",
       "\n",
       "    .dataframe tbody tr th {\n",
       "        vertical-align: top;\n",
       "    }\n",
       "\n",
       "    .dataframe thead th {\n",
       "        text-align: right;\n",
       "    }\n",
       "</style>\n",
       "<table border=\"1\" class=\"dataframe\">\n",
       "  <thead>\n",
       "    <tr style=\"text-align: right;\">\n",
       "      <th></th>\n",
       "      <th>Animal ID</th>\n",
       "      <th>Cute Rating</th>\n",
       "    </tr>\n",
       "  </thead>\n",
       "  <tbody>\n",
       "    <tr>\n",
       "      <th>0</th>\n",
       "      <td>A489026</td>\n",
       "      <td>0.512468</td>\n",
       "    </tr>\n",
       "    <tr>\n",
       "      <th>1</th>\n",
       "      <td>A504446</td>\n",
       "      <td>0.923166</td>\n",
       "    </tr>\n",
       "    <tr>\n",
       "      <th>2</th>\n",
       "      <td>A501998</td>\n",
       "      <td>6.000645</td>\n",
       "    </tr>\n",
       "    <tr>\n",
       "      <th>3</th>\n",
       "      <td>A505490</td>\n",
       "      <td>3.352689</td>\n",
       "    </tr>\n",
       "    <tr>\n",
       "      <th>4</th>\n",
       "      <td>A505200</td>\n",
       "      <td>2.845946</td>\n",
       "    </tr>\n",
       "  </tbody>\n",
       "</table>\n",
       "</div>"
      ],
      "text/plain": [
       "  Animal ID  Cute Rating\n",
       "0   A489026     0.512468\n",
       "1   A504446     0.923166\n",
       "2   A501998     6.000645\n",
       "3   A505490     3.352689\n",
       "4   A505200     2.845946"
      ]
     },
     "execution_count": 138,
     "metadata": {},
     "output_type": "execute_result"
    }
   ],
   "source": [
    "Cute_data.head()"
   ]
  },
  {
   "cell_type": "markdown",
   "id": "4558f4c2",
   "metadata": {},
   "source": [
    "Next, we will merge the Cute_data and the original data to create a new dataframe that includes all columns. In this case it is clear we could have built the Cute Rating into our original, but there will be times when we want to merge datasets from various sources.  "
   ]
  },
  {
   "cell_type": "code",
   "execution_count": 139,
   "id": "acc1738e",
   "metadata": {},
   "outputs": [],
   "source": [
    "#There are various types of merges, each with its own benefits depending on context. Here is the simplest form of merge\n",
    "all_data = animal_data.merge(Cute_data, on = \"Animal ID\")"
   ]
  },
  {
   "cell_type": "code",
   "execution_count": 140,
   "id": "4e49de85",
   "metadata": {},
   "outputs": [
    {
     "data": {
      "text/html": [
       "<div>\n",
       "<style scoped>\n",
       "    .dataframe tbody tr th:only-of-type {\n",
       "        vertical-align: middle;\n",
       "    }\n",
       "\n",
       "    .dataframe tbody tr th {\n",
       "        vertical-align: top;\n",
       "    }\n",
       "\n",
       "    .dataframe thead th {\n",
       "        text-align: right;\n",
       "    }\n",
       "</style>\n",
       "<table border=\"1\" class=\"dataframe\">\n",
       "  <thead>\n",
       "    <tr style=\"text-align: right;\">\n",
       "      <th></th>\n",
       "      <th>Animal ID</th>\n",
       "      <th>Intake Type</th>\n",
       "      <th>In Date</th>\n",
       "      <th>Pet name</th>\n",
       "      <th>Animal Type</th>\n",
       "      <th>Pet Age</th>\n",
       "      <th>Pet Size</th>\n",
       "      <th>Color</th>\n",
       "      <th>Breed</th>\n",
       "      <th>Sex</th>\n",
       "      <th>URL Link</th>\n",
       "      <th>Crossing</th>\n",
       "      <th>Cute Rating</th>\n",
       "    </tr>\n",
       "  </thead>\n",
       "  <tbody>\n",
       "    <tr>\n",
       "      <th>0</th>\n",
       "      <td>A489026</td>\n",
       "      <td>CONFISCATE</td>\n",
       "      <td>03/18/2023</td>\n",
       "      <td>ROSCOE</td>\n",
       "      <td>DOG</td>\n",
       "      <td>5 YEARS</td>\n",
       "      <td>MED</td>\n",
       "      <td>BROWN / WHITE</td>\n",
       "      <td>AM PIT BULL TER</td>\n",
       "      <td>N</td>\n",
       "      <td>http://www.petharbor.com/get_image.asp?res=DET...</td>\n",
       "      <td>NaN</td>\n",
       "      <td>0.512468</td>\n",
       "    </tr>\n",
       "    <tr>\n",
       "      <th>1</th>\n",
       "      <td>A504446</td>\n",
       "      <td>RETURN</td>\n",
       "      <td>06/10/2023</td>\n",
       "      <td>ROCKY</td>\n",
       "      <td>OTHER</td>\n",
       "      <td>1 YEAR 1 MONTH</td>\n",
       "      <td>MED</td>\n",
       "      <td>TAN / BLACK</td>\n",
       "      <td>GUINEA PIG</td>\n",
       "      <td>M</td>\n",
       "      <td>http://www.petharbor.com/get_image.asp?res=DET...</td>\n",
       "      <td>NaN</td>\n",
       "      <td>0.923166</td>\n",
       "    </tr>\n",
       "    <tr>\n",
       "      <th>2</th>\n",
       "      <td>A501998</td>\n",
       "      <td>RETURN</td>\n",
       "      <td>04/25/2023</td>\n",
       "      <td>*SILVER</td>\n",
       "      <td>CAT</td>\n",
       "      <td>10 YEARS</td>\n",
       "      <td>MED</td>\n",
       "      <td>BLACK</td>\n",
       "      <td>DOMESTIC SH</td>\n",
       "      <td>N</td>\n",
       "      <td>http://www.petharbor.com/get_image.asp?res=DET...</td>\n",
       "      <td>NaN</td>\n",
       "      <td>6.000645</td>\n",
       "    </tr>\n",
       "    <tr>\n",
       "      <th>3</th>\n",
       "      <td>A505490</td>\n",
       "      <td>OWNER SUR</td>\n",
       "      <td>05/30/2023</td>\n",
       "      <td>ALEX</td>\n",
       "      <td>CAT</td>\n",
       "      <td>6 YEARS</td>\n",
       "      <td>MED</td>\n",
       "      <td>BLACK</td>\n",
       "      <td>DOMESTIC SH</td>\n",
       "      <td>N</td>\n",
       "      <td>http://www.petharbor.com/get_image.asp?res=DET...</td>\n",
       "      <td>NaN</td>\n",
       "      <td>3.352689</td>\n",
       "    </tr>\n",
       "    <tr>\n",
       "      <th>4</th>\n",
       "      <td>A505200</td>\n",
       "      <td>RETURN</td>\n",
       "      <td>06/01/2023</td>\n",
       "      <td>KOPI</td>\n",
       "      <td>DOG</td>\n",
       "      <td>2 YEARS</td>\n",
       "      <td>LARGE</td>\n",
       "      <td>BROWN / WHITE</td>\n",
       "      <td>GERM SHEPHERD / LABRADOR RETR</td>\n",
       "      <td>N</td>\n",
       "      <td>http://www.petharbor.com/get_image.asp?res=DET...</td>\n",
       "      <td>NaN</td>\n",
       "      <td>2.845946</td>\n",
       "    </tr>\n",
       "  </tbody>\n",
       "</table>\n",
       "</div>"
      ],
      "text/plain": [
       "  Animal ID Intake Type     In Date Pet name Animal Type         Pet Age  \\\n",
       "0   A489026  CONFISCATE  03/18/2023   ROSCOE         DOG         5 YEARS   \n",
       "1   A504446      RETURN  06/10/2023    ROCKY       OTHER  1 YEAR 1 MONTH   \n",
       "2   A501998      RETURN  04/25/2023  *SILVER         CAT        10 YEARS   \n",
       "3   A505490   OWNER SUR  05/30/2023     ALEX         CAT         6 YEARS   \n",
       "4   A505200      RETURN  06/01/2023     KOPI         DOG         2 YEARS   \n",
       "\n",
       "  Pet Size          Color                          Breed Sex  \\\n",
       "0      MED  BROWN / WHITE                AM PIT BULL TER   N   \n",
       "1      MED    TAN / BLACK                     GUINEA PIG   M   \n",
       "2      MED          BLACK                    DOMESTIC SH   N   \n",
       "3      MED          BLACK                    DOMESTIC SH   N   \n",
       "4    LARGE  BROWN / WHITE  GERM SHEPHERD / LABRADOR RETR   N   \n",
       "\n",
       "                                           URL Link  Crossing  Cute Rating  \n",
       "0  http://www.petharbor.com/get_image.asp?res=DET...      NaN     0.512468  \n",
       "1  http://www.petharbor.com/get_image.asp?res=DET...      NaN     0.923166  \n",
       "2  http://www.petharbor.com/get_image.asp?res=DET...      NaN     6.000645  \n",
       "3  http://www.petharbor.com/get_image.asp?res=DET...      NaN     3.352689  \n",
       "4  http://www.petharbor.com/get_image.asp?res=DET...      NaN     2.845946  "
      ]
     },
     "execution_count": 140,
     "metadata": {},
     "output_type": "execute_result"
    }
   ],
   "source": [
    "all_data.head()"
   ]
  },
  {
   "cell_type": "markdown",
   "id": "c60ccb65",
   "metadata": {},
   "source": [
    "As we can see, this is basically our previous data with the addition of Cute Rating. The final thing we will do with this dataset is formatting types. For example, our \"In Date\" variable is likely defaulted to a string instead of a DateTime variable. "
   ]
  },
  {
   "cell_type": "code",
   "execution_count": 141,
   "id": "8a5248d8",
   "metadata": {},
   "outputs": [],
   "source": [
    "all_data[\"In Date\"] = all_data[\"In Date\"].apply(str)"
   ]
  },
  {
   "cell_type": "code",
   "execution_count": 142,
   "id": "c2001353",
   "metadata": {},
   "outputs": [
    {
     "data": {
      "text/html": [
       "<div>\n",
       "<style scoped>\n",
       "    .dataframe tbody tr th:only-of-type {\n",
       "        vertical-align: middle;\n",
       "    }\n",
       "\n",
       "    .dataframe tbody tr th {\n",
       "        vertical-align: top;\n",
       "    }\n",
       "\n",
       "    .dataframe thead th {\n",
       "        text-align: right;\n",
       "    }\n",
       "</style>\n",
       "<table border=\"1\" class=\"dataframe\">\n",
       "  <thead>\n",
       "    <tr style=\"text-align: right;\">\n",
       "      <th></th>\n",
       "      <th>Animal ID</th>\n",
       "      <th>Intake Type</th>\n",
       "      <th>In Date</th>\n",
       "      <th>Pet name</th>\n",
       "      <th>Animal Type</th>\n",
       "      <th>Pet Age</th>\n",
       "      <th>Pet Size</th>\n",
       "      <th>Color</th>\n",
       "      <th>Breed</th>\n",
       "      <th>Sex</th>\n",
       "      <th>URL Link</th>\n",
       "      <th>Crossing</th>\n",
       "      <th>Cute Rating</th>\n",
       "    </tr>\n",
       "  </thead>\n",
       "  <tbody>\n",
       "    <tr>\n",
       "      <th>0</th>\n",
       "      <td>A489026</td>\n",
       "      <td>CONFISCATE</td>\n",
       "      <td>03/18/2023</td>\n",
       "      <td>ROSCOE</td>\n",
       "      <td>DOG</td>\n",
       "      <td>5 YEARS</td>\n",
       "      <td>MED</td>\n",
       "      <td>BROWN / WHITE</td>\n",
       "      <td>AM PIT BULL TER</td>\n",
       "      <td>N</td>\n",
       "      <td>http://www.petharbor.com/get_image.asp?res=DET...</td>\n",
       "      <td>NaN</td>\n",
       "      <td>0.512468</td>\n",
       "    </tr>\n",
       "    <tr>\n",
       "      <th>1</th>\n",
       "      <td>A504446</td>\n",
       "      <td>RETURN</td>\n",
       "      <td>06/10/2023</td>\n",
       "      <td>ROCKY</td>\n",
       "      <td>OTHER</td>\n",
       "      <td>1 YEAR 1 MONTH</td>\n",
       "      <td>MED</td>\n",
       "      <td>TAN / BLACK</td>\n",
       "      <td>GUINEA PIG</td>\n",
       "      <td>M</td>\n",
       "      <td>http://www.petharbor.com/get_image.asp?res=DET...</td>\n",
       "      <td>NaN</td>\n",
       "      <td>0.923166</td>\n",
       "    </tr>\n",
       "    <tr>\n",
       "      <th>2</th>\n",
       "      <td>A501998</td>\n",
       "      <td>RETURN</td>\n",
       "      <td>04/25/2023</td>\n",
       "      <td>*SILVER</td>\n",
       "      <td>CAT</td>\n",
       "      <td>10 YEARS</td>\n",
       "      <td>MED</td>\n",
       "      <td>BLACK</td>\n",
       "      <td>DOMESTIC SH</td>\n",
       "      <td>N</td>\n",
       "      <td>http://www.petharbor.com/get_image.asp?res=DET...</td>\n",
       "      <td>NaN</td>\n",
       "      <td>6.000645</td>\n",
       "    </tr>\n",
       "    <tr>\n",
       "      <th>3</th>\n",
       "      <td>A505490</td>\n",
       "      <td>OWNER SUR</td>\n",
       "      <td>05/30/2023</td>\n",
       "      <td>ALEX</td>\n",
       "      <td>CAT</td>\n",
       "      <td>6 YEARS</td>\n",
       "      <td>MED</td>\n",
       "      <td>BLACK</td>\n",
       "      <td>DOMESTIC SH</td>\n",
       "      <td>N</td>\n",
       "      <td>http://www.petharbor.com/get_image.asp?res=DET...</td>\n",
       "      <td>NaN</td>\n",
       "      <td>3.352689</td>\n",
       "    </tr>\n",
       "    <tr>\n",
       "      <th>4</th>\n",
       "      <td>A505200</td>\n",
       "      <td>RETURN</td>\n",
       "      <td>06/01/2023</td>\n",
       "      <td>KOPI</td>\n",
       "      <td>DOG</td>\n",
       "      <td>2 YEARS</td>\n",
       "      <td>LARGE</td>\n",
       "      <td>BROWN / WHITE</td>\n",
       "      <td>GERM SHEPHERD / LABRADOR RETR</td>\n",
       "      <td>N</td>\n",
       "      <td>http://www.petharbor.com/get_image.asp?res=DET...</td>\n",
       "      <td>NaN</td>\n",
       "      <td>2.845946</td>\n",
       "    </tr>\n",
       "  </tbody>\n",
       "</table>\n",
       "</div>"
      ],
      "text/plain": [
       "  Animal ID Intake Type     In Date Pet name Animal Type         Pet Age  \\\n",
       "0   A489026  CONFISCATE  03/18/2023   ROSCOE         DOG         5 YEARS   \n",
       "1   A504446      RETURN  06/10/2023    ROCKY       OTHER  1 YEAR 1 MONTH   \n",
       "2   A501998      RETURN  04/25/2023  *SILVER         CAT        10 YEARS   \n",
       "3   A505490   OWNER SUR  05/30/2023     ALEX         CAT         6 YEARS   \n",
       "4   A505200      RETURN  06/01/2023     KOPI         DOG         2 YEARS   \n",
       "\n",
       "  Pet Size          Color                          Breed Sex  \\\n",
       "0      MED  BROWN / WHITE                AM PIT BULL TER   N   \n",
       "1      MED    TAN / BLACK                     GUINEA PIG   M   \n",
       "2      MED          BLACK                    DOMESTIC SH   N   \n",
       "3      MED          BLACK                    DOMESTIC SH   N   \n",
       "4    LARGE  BROWN / WHITE  GERM SHEPHERD / LABRADOR RETR   N   \n",
       "\n",
       "                                           URL Link  Crossing  Cute Rating  \n",
       "0  http://www.petharbor.com/get_image.asp?res=DET...      NaN     0.512468  \n",
       "1  http://www.petharbor.com/get_image.asp?res=DET...      NaN     0.923166  \n",
       "2  http://www.petharbor.com/get_image.asp?res=DET...      NaN     6.000645  \n",
       "3  http://www.petharbor.com/get_image.asp?res=DET...      NaN     3.352689  \n",
       "4  http://www.petharbor.com/get_image.asp?res=DET...      NaN     2.845946  "
      ]
     },
     "execution_count": 142,
     "metadata": {},
     "output_type": "execute_result"
    }
   ],
   "source": [
    "all_data.head()"
   ]
  },
  {
   "cell_type": "code",
   "execution_count": 143,
   "id": "8fc12890",
   "metadata": {},
   "outputs": [],
   "source": [
    "all_data[\"In Date\"] = pd.to_datetime(all_data[\"In Date\"], format='%m/%d/%Y')\n"
   ]
  },
  {
   "cell_type": "code",
   "execution_count": 144,
   "id": "1f12ac33",
   "metadata": {},
   "outputs": [
    {
     "data": {
      "text/html": [
       "<div>\n",
       "<style scoped>\n",
       "    .dataframe tbody tr th:only-of-type {\n",
       "        vertical-align: middle;\n",
       "    }\n",
       "\n",
       "    .dataframe tbody tr th {\n",
       "        vertical-align: top;\n",
       "    }\n",
       "\n",
       "    .dataframe thead th {\n",
       "        text-align: right;\n",
       "    }\n",
       "</style>\n",
       "<table border=\"1\" class=\"dataframe\">\n",
       "  <thead>\n",
       "    <tr style=\"text-align: right;\">\n",
       "      <th></th>\n",
       "      <th>Animal ID</th>\n",
       "      <th>Intake Type</th>\n",
       "      <th>In Date</th>\n",
       "      <th>Pet name</th>\n",
       "      <th>Animal Type</th>\n",
       "      <th>Pet Age</th>\n",
       "      <th>Pet Size</th>\n",
       "      <th>Color</th>\n",
       "      <th>Breed</th>\n",
       "      <th>Sex</th>\n",
       "      <th>URL Link</th>\n",
       "      <th>Crossing</th>\n",
       "      <th>Cute Rating</th>\n",
       "    </tr>\n",
       "  </thead>\n",
       "  <tbody>\n",
       "    <tr>\n",
       "      <th>0</th>\n",
       "      <td>A489026</td>\n",
       "      <td>CONFISCATE</td>\n",
       "      <td>2023-03-18</td>\n",
       "      <td>ROSCOE</td>\n",
       "      <td>DOG</td>\n",
       "      <td>5 YEARS</td>\n",
       "      <td>MED</td>\n",
       "      <td>BROWN / WHITE</td>\n",
       "      <td>AM PIT BULL TER</td>\n",
       "      <td>N</td>\n",
       "      <td>http://www.petharbor.com/get_image.asp?res=DET...</td>\n",
       "      <td>NaN</td>\n",
       "      <td>0.512468</td>\n",
       "    </tr>\n",
       "    <tr>\n",
       "      <th>1</th>\n",
       "      <td>A504446</td>\n",
       "      <td>RETURN</td>\n",
       "      <td>2023-06-10</td>\n",
       "      <td>ROCKY</td>\n",
       "      <td>OTHER</td>\n",
       "      <td>1 YEAR 1 MONTH</td>\n",
       "      <td>MED</td>\n",
       "      <td>TAN / BLACK</td>\n",
       "      <td>GUINEA PIG</td>\n",
       "      <td>M</td>\n",
       "      <td>http://www.petharbor.com/get_image.asp?res=DET...</td>\n",
       "      <td>NaN</td>\n",
       "      <td>0.923166</td>\n",
       "    </tr>\n",
       "    <tr>\n",
       "      <th>2</th>\n",
       "      <td>A501998</td>\n",
       "      <td>RETURN</td>\n",
       "      <td>2023-04-25</td>\n",
       "      <td>*SILVER</td>\n",
       "      <td>CAT</td>\n",
       "      <td>10 YEARS</td>\n",
       "      <td>MED</td>\n",
       "      <td>BLACK</td>\n",
       "      <td>DOMESTIC SH</td>\n",
       "      <td>N</td>\n",
       "      <td>http://www.petharbor.com/get_image.asp?res=DET...</td>\n",
       "      <td>NaN</td>\n",
       "      <td>6.000645</td>\n",
       "    </tr>\n",
       "    <tr>\n",
       "      <th>3</th>\n",
       "      <td>A505490</td>\n",
       "      <td>OWNER SUR</td>\n",
       "      <td>2023-05-30</td>\n",
       "      <td>ALEX</td>\n",
       "      <td>CAT</td>\n",
       "      <td>6 YEARS</td>\n",
       "      <td>MED</td>\n",
       "      <td>BLACK</td>\n",
       "      <td>DOMESTIC SH</td>\n",
       "      <td>N</td>\n",
       "      <td>http://www.petharbor.com/get_image.asp?res=DET...</td>\n",
       "      <td>NaN</td>\n",
       "      <td>3.352689</td>\n",
       "    </tr>\n",
       "    <tr>\n",
       "      <th>4</th>\n",
       "      <td>A505200</td>\n",
       "      <td>RETURN</td>\n",
       "      <td>2023-06-01</td>\n",
       "      <td>KOPI</td>\n",
       "      <td>DOG</td>\n",
       "      <td>2 YEARS</td>\n",
       "      <td>LARGE</td>\n",
       "      <td>BROWN / WHITE</td>\n",
       "      <td>GERM SHEPHERD / LABRADOR RETR</td>\n",
       "      <td>N</td>\n",
       "      <td>http://www.petharbor.com/get_image.asp?res=DET...</td>\n",
       "      <td>NaN</td>\n",
       "      <td>2.845946</td>\n",
       "    </tr>\n",
       "  </tbody>\n",
       "</table>\n",
       "</div>"
      ],
      "text/plain": [
       "  Animal ID Intake Type    In Date Pet name Animal Type         Pet Age  \\\n",
       "0   A489026  CONFISCATE 2023-03-18   ROSCOE         DOG         5 YEARS   \n",
       "1   A504446      RETURN 2023-06-10    ROCKY       OTHER  1 YEAR 1 MONTH   \n",
       "2   A501998      RETURN 2023-04-25  *SILVER         CAT        10 YEARS   \n",
       "3   A505490   OWNER SUR 2023-05-30     ALEX         CAT         6 YEARS   \n",
       "4   A505200      RETURN 2023-06-01     KOPI         DOG         2 YEARS   \n",
       "\n",
       "  Pet Size          Color                          Breed Sex  \\\n",
       "0      MED  BROWN / WHITE                AM PIT BULL TER   N   \n",
       "1      MED    TAN / BLACK                     GUINEA PIG   M   \n",
       "2      MED          BLACK                    DOMESTIC SH   N   \n",
       "3      MED          BLACK                    DOMESTIC SH   N   \n",
       "4    LARGE  BROWN / WHITE  GERM SHEPHERD / LABRADOR RETR   N   \n",
       "\n",
       "                                           URL Link  Crossing  Cute Rating  \n",
       "0  http://www.petharbor.com/get_image.asp?res=DET...      NaN     0.512468  \n",
       "1  http://www.petharbor.com/get_image.asp?res=DET...      NaN     0.923166  \n",
       "2  http://www.petharbor.com/get_image.asp?res=DET...      NaN     6.000645  \n",
       "3  http://www.petharbor.com/get_image.asp?res=DET...      NaN     3.352689  \n",
       "4  http://www.petharbor.com/get_image.asp?res=DET...      NaN     2.845946  "
      ]
     },
     "execution_count": 144,
     "metadata": {},
     "output_type": "execute_result"
    }
   ],
   "source": [
    "all_data.head()"
   ]
  },
  {
   "cell_type": "markdown",
   "id": "20b7fd2e",
   "metadata": {},
   "source": [
    "Converting to datetime will be essential for plotting the data points over time. "
   ]
  },
  {
   "cell_type": "markdown",
   "id": "5372fa21",
   "metadata": {},
   "source": [
    "We can also sort values with this code:"
   ]
  },
  {
   "cell_type": "code",
   "execution_count": 145,
   "id": "11bbf7d8",
   "metadata": {},
   "outputs": [],
   "source": [
    "temp = all_data.sort_values('In Date')\n"
   ]
  },
  {
   "cell_type": "markdown",
   "id": "d6e8fc83",
   "metadata": {},
   "source": [
    "We can use \".idxmax()\" to find the row index for row that has the maximum of a certain value."
   ]
  },
  {
   "cell_type": "code",
   "execution_count": 146,
   "id": "e60fddc8",
   "metadata": {},
   "outputs": [],
   "source": [
    "max_cute_index = all_data['Cute Rating'].idxmax()\n",
    "\n",
    "max_cute_animal = all_data.loc[max_cute_index]"
   ]
  },
  {
   "cell_type": "code",
   "execution_count": 147,
   "id": "4b5ff968",
   "metadata": {},
   "outputs": [
    {
     "data": {
      "text/plain": [
       "Animal ID                                                A505475\n",
       "Intake Type                                            OWNER SUR\n",
       "In Date                                      2023-05-30 00:00:00\n",
       "Pet name                                                  VINNIE\n",
       "Animal Type                                                  CAT\n",
       "Pet Age                                                 13 YEARS\n",
       "Pet Size                                                   LARGE\n",
       "Color                                               GRAY / WHITE\n",
       "Breed                                                DOMESTIC SH\n",
       "Sex                                                            N\n",
       "URL Link       http://www.petharbor.com/get_image.asp?res=DET...\n",
       "Crossing                                                     NaN\n",
       "Cute Rating                                              9.96651\n",
       "Name: 14, dtype: object"
      ]
     },
     "execution_count": 147,
     "metadata": {},
     "output_type": "execute_result"
    }
   ],
   "source": [
    "max_cute_animal"
   ]
  },
  {
   "cell_type": "markdown",
   "id": "7c9f8594",
   "metadata": {},
   "source": [
    "The function \".groupby()\" will group each observation based on similar values. For example, if you wanted to work with each group of colors for the animals, you can use the following code:"
   ]
  },
  {
   "cell_type": "code",
   "execution_count": 148,
   "id": "1c82bddf",
   "metadata": {},
   "outputs": [],
   "source": [
    "colors = all_data.groupby(\"Color\")\n"
   ]
  },
  {
   "cell_type": "markdown",
   "id": "a27a6fc7",
   "metadata": {},
   "source": [
    "## Statistical Information\n",
    "\n",
    "Next, we will produce some statistical information regarding the data. "
   ]
  },
  {
   "cell_type": "code",
   "execution_count": 149,
   "id": "63f222ed",
   "metadata": {},
   "outputs": [
    {
     "data": {
      "text/html": [
       "<div>\n",
       "<style scoped>\n",
       "    .dataframe tbody tr th:only-of-type {\n",
       "        vertical-align: middle;\n",
       "    }\n",
       "\n",
       "    .dataframe tbody tr th {\n",
       "        vertical-align: top;\n",
       "    }\n",
       "\n",
       "    .dataframe thead th {\n",
       "        text-align: right;\n",
       "    }\n",
       "</style>\n",
       "<table border=\"1\" class=\"dataframe\">\n",
       "  <thead>\n",
       "    <tr style=\"text-align: right;\">\n",
       "      <th></th>\n",
       "      <th>Cute Rating</th>\n",
       "    </tr>\n",
       "  </thead>\n",
       "  <tbody>\n",
       "    <tr>\n",
       "      <th>count</th>\n",
       "      <td>70.000000</td>\n",
       "    </tr>\n",
       "    <tr>\n",
       "      <th>mean</th>\n",
       "      <td>4.639006</td>\n",
       "    </tr>\n",
       "    <tr>\n",
       "      <th>std</th>\n",
       "      <td>3.069703</td>\n",
       "    </tr>\n",
       "    <tr>\n",
       "      <th>min</th>\n",
       "      <td>0.053348</td>\n",
       "    </tr>\n",
       "    <tr>\n",
       "      <th>25%</th>\n",
       "      <td>2.313421</td>\n",
       "    </tr>\n",
       "    <tr>\n",
       "      <th>50%</th>\n",
       "      <td>4.646002</td>\n",
       "    </tr>\n",
       "    <tr>\n",
       "      <th>75%</th>\n",
       "      <td>6.850034</td>\n",
       "    </tr>\n",
       "    <tr>\n",
       "      <th>max</th>\n",
       "      <td>9.966510</td>\n",
       "    </tr>\n",
       "  </tbody>\n",
       "</table>\n",
       "</div>"
      ],
      "text/plain": [
       "       Cute Rating\n",
       "count    70.000000\n",
       "mean      4.639006\n",
       "std       3.069703\n",
       "min       0.053348\n",
       "25%       2.313421\n",
       "50%       4.646002\n",
       "75%       6.850034\n",
       "max       9.966510"
      ]
     },
     "execution_count": 149,
     "metadata": {},
     "output_type": "execute_result"
    }
   ],
   "source": [
    "#this will produce numerical summaries for all variables that can (here we only have cute rating as a number,\n",
    "# everything else is a string or date)\n",
    "\n",
    "all_data.describe()"
   ]
  },
  {
   "cell_type": "code",
   "execution_count": 150,
   "id": "e151e316",
   "metadata": {},
   "outputs": [],
   "source": [
    "# We can also select the mean, median, etc for any column. We will again use Cute Rating as it is the only number\n",
    "\n",
    "cute_mean = all_data[\"Cute Rating\"].mean()"
   ]
  },
  {
   "cell_type": "code",
   "execution_count": 151,
   "id": "08765fdd",
   "metadata": {},
   "outputs": [],
   "source": [
    "cute_median = all_data[\"Cute Rating\"].median()"
   ]
  },
  {
   "cell_type": "markdown",
   "id": "0474141f",
   "metadata": {},
   "source": [
    "We can also do this for our datetime variable:"
   ]
  },
  {
   "cell_type": "code",
   "execution_count": 152,
   "id": "4a7a8bfc",
   "metadata": {},
   "outputs": [
    {
     "name": "stderr",
     "output_type": "stream",
     "text": [
      "/var/folders/3c/ym9wm9791bl1c1zqjtv5fgdw0000gn/T/ipykernel_47540/892692325.py:1: FutureWarning: Treating datetime data as categorical rather than numeric in `.describe` is deprecated and will be removed in a future version of pandas. Specify `datetime_is_numeric=True` to silence this warning and adopt the future behavior now.\n",
      "  all_data['In Date'].describe()\n"
     ]
    },
    {
     "data": {
      "text/plain": [
       "count                      70\n",
       "unique                     43\n",
       "top       2023-05-30 00:00:00\n",
       "freq                        5\n",
       "first     2023-01-06 00:00:00\n",
       "last      2023-06-14 00:00:00\n",
       "Name: In Date, dtype: object"
      ]
     },
     "execution_count": 152,
     "metadata": {},
     "output_type": "execute_result"
    }
   ],
   "source": [
    "all_data['In Date'].describe()"
   ]
  },
  {
   "cell_type": "code",
   "execution_count": 153,
   "id": "17f934a0",
   "metadata": {},
   "outputs": [
    {
     "data": {
      "text/plain": [
       "Timestamp('2023-04-22 13:01:42.857142784')"
      ]
     },
     "execution_count": 153,
     "metadata": {},
     "output_type": "execute_result"
    }
   ],
   "source": [
    "all_data['In Date'].mean()"
   ]
  },
  {
   "cell_type": "code",
   "execution_count": 154,
   "id": "e047e527",
   "metadata": {},
   "outputs": [
    {
     "data": {
      "text/plain": [
       "Timestamp('2023-05-09 00:00:00')"
      ]
     },
     "execution_count": 154,
     "metadata": {},
     "output_type": "execute_result"
    }
   ],
   "source": [
    "all_data['In Date'].median()"
   ]
  },
  {
   "cell_type": "markdown",
   "id": "101d0fd7",
   "metadata": {},
   "source": [
    "Next, we can create a frequency table for our categorical variables:"
   ]
  },
  {
   "cell_type": "code",
   "execution_count": 155,
   "id": "015d58d3",
   "metadata": {},
   "outputs": [
    {
     "data": {
      "text/plain": [
       "OTHER        28\n",
       "DOG          24\n",
       "CAT          17\n",
       "LIVESTOCK     1\n",
       "Name: Animal Type, dtype: int64"
      ]
     },
     "execution_count": 155,
     "metadata": {},
     "output_type": "execute_result"
    }
   ],
   "source": [
    "all_data[\"Animal Type\"].value_counts()"
   ]
  },
  {
   "cell_type": "markdown",
   "id": "a902dd8e",
   "metadata": {},
   "source": [
    "## Visualization\n",
    "\n",
    "Next, we will produce some basic visualizations with the data using matplotlib. \n"
   ]
  },
  {
   "cell_type": "code",
   "execution_count": 156,
   "id": "56692ee8",
   "metadata": {},
   "outputs": [],
   "source": [
    "#import the visualization package\n",
    "from matplotlib import pyplot as plt\n"
   ]
  },
  {
   "cell_type": "markdown",
   "id": "4d29aa86",
   "metadata": {},
   "source": [
    "Here is code to produce a histogram."
   ]
  },
  {
   "cell_type": "code",
   "execution_count": 157,
   "id": "8b2f9449",
   "metadata": {},
   "outputs": [
    {
     "data": {
      "image/png": "[encoded data removed]",
      "text/plain": [
       "<Figure size 640x480 with 1 Axes>"
      ]
     },
     "metadata": {},
     "output_type": "display_data"
    }
   ],
   "source": [
    "plt.hist(all_data['Cute Rating'], bins=10, edgecolor='black')\n",
    "\n",
    "plt.title('Histogram of Cute Rating')\n",
    "plt.xlabel('Cute Rating')\n",
    "plt.ylabel('Frequency')\n",
    "\n",
    "plt.show()"
   ]
  },
  {
   "cell_type": "markdown",
   "id": "7166883f",
   "metadata": {},
   "source": [
    "To create a line graph:"
   ]
  },
  {
   "cell_type": "code",
   "execution_count": 158,
   "id": "9d7364ef",
   "metadata": {},
   "outputs": [
    {
     "data": {
      "image/png": "[encoded data removed]",
      "text/plain": [
       "<Figure size 1000x600 with 1 Axes>"
      ]
     },
     "metadata": {},
     "output_type": "display_data"
    }
   ],
   "source": [
    "temp = all_data.sort_values('In Date')\n",
    "\n",
    "plt.figure(figsize=(10, 6))\n",
    "plt.plot(temp['In Date'], temp['Cute Rating'], marker='o')\n",
    "plt.title('Cute Score over Time')\n",
    "plt.xlabel('Date')\n",
    "plt.ylabel('Cute Score')\n",
    "plt.grid(True)\n",
    "plt.show()"
   ]
  },
  {
   "cell_type": "markdown",
   "id": "e054a007",
   "metadata": {},
   "source": [
    "To do additional graphs, I will create another numerical variable called \"Family Friendly Score\" which will also be out of 10."
   ]
  },
  {
   "cell_type": "code",
   "execution_count": 159,
   "id": "870e3d83",
   "metadata": {},
   "outputs": [],
   "source": [
    "all_data[\"Family Friendly Score\"] = np.random.uniform(low = 0, high = 10, size=(len(all_data),))\n"
   ]
  },
  {
   "cell_type": "code",
   "execution_count": 160,
   "id": "53a4ee6e",
   "metadata": {},
   "outputs": [
    {
     "data": {
      "image/png": "[encoded data removed]",
      "text/plain": [
       "<Figure size 1000x600 with 1 Axes>"
      ]
     },
     "metadata": {},
     "output_type": "display_data"
    }
   ],
   "source": [
    "plt.figure(figsize=(10, 6))\n",
    "plt.scatter(all_data['Cute Rating'], all_data['Family Friendly Score'])\n",
    "plt.title('Dot Plot of Cute Rating vs Family Friendly Score')\n",
    "plt.xlabel('Cute Rating')\n",
    "plt.ylabel('Family Friendly Score')\n",
    "plt.grid(True)\n",
    "plt.show()"
   ]
  },
  {
   "cell_type": "markdown",
   "id": "f56530c9",
   "metadata": {},
   "source": [
    "We can also use matplotlib to create box plots:"
   ]
  },
  {
   "cell_type": "code",
   "execution_count": 161,
   "id": "2070014c",
   "metadata": {},
   "outputs": [
    {
     "data": {
      "image/png": "[encoded data removed]",
      "text/plain": [
       "<Figure size 640x480 with 1 Axes>"
      ]
     },
     "metadata": {},
     "output_type": "display_data"
    }
   ],
   "source": [
    "fig, ax = plt.subplots()\n",
    "\n",
    "#create box plots\n",
    "bp1 = ax.boxplot(all_data['Cute Rating'], vert=False, positions=[1])\n",
    "bp2 = ax.boxplot(all_data['Family Friendly Score'], vert=False, positions=[2])\n",
    "\n",
    "\n",
    "#set labels\n",
    "ax.set_xlabel('Cute Score')\n",
    "ax.set_title('Box plot of Cute Rating')\n",
    "\n",
    "ax.set_yticks([1, 2])\n",
    "ax.set_yticklabels(['Cute Rating', 'Family Friendly Score'])\n",
    "\n",
    "\n",
    "plt.show()"
   ]
  },
  {
   "cell_type": "markdown",
   "id": "83cf8a2f",
   "metadata": {},
   "source": [
    "Note: because these are random values, the actual box plots aren't interesting.\n",
    "\n",
    "### Examples with 2 methods:\n",
    "\n",
    "\n",
    "\n",
    "#### Example 1:\n",
    "Use two different methods to find the name and information of the animal is the most family friendly and scored at least 5 on the cute rating.\n",
    "\n",
    "1. Method 1: Sort values, head(1)\n",
    "\n",
    "This method uses the sort_values function to sort all of animals and then prints the information for the first animal on the list. "
   ]
  },
  {
   "cell_type": "code",
   "execution_count": 162,
   "id": "078962fc",
   "metadata": {},
   "outputs": [
    {
     "name": "stdout",
     "output_type": "stream",
     "text": [
      "41          MILO\n",
      "25       WENDIGO\n",
      "43         *BOBY\n",
      "66        CALLIE\n",
      "28         *LILI\n",
      "15          BOMA\n",
      "11        MOZART\n",
      "9     MAPINGAUTI\n",
      "65         *HANK\n",
      "26       LINCOLN\n",
      "47        *MONTY\n",
      "55        *CRUSH\n",
      "54        *ERNIE\n",
      "44       PHOENIX\n",
      "16         *SARA\n",
      "7          ROSIE\n",
      "27          NEKO\n",
      "67      *NIBBLES\n",
      "10       MITTENS\n",
      "58         JENNY\n",
      "35          *MAX\n",
      "45        *RINGO\n",
      "14        VINNIE\n",
      "69          MARS\n",
      "18        SUMMER\n",
      "61          *UNO\n",
      "63     HASHBROWN\n",
      "2        *SILVER\n",
      "22       *CARONA\n",
      "68          *BOB\n",
      "39          HANK\n",
      "Name: Pet name, dtype: object\n"
     ]
    }
   ],
   "source": [
    "cute5 = all_data[all_data[\"Cute Rating\"] > 5]\n",
    "\n",
    "cute5 = cute5.sort_values(\"Family Friendly Score\", ascending = False)\n",
    "\n",
    "print(cute5[\"Pet name\"])"
   ]
  },
  {
   "cell_type": "markdown",
   "id": "9e5478fd",
   "metadata": {},
   "source": [
    "We can see that the name of the animal with the highest family friendly score that is at least 5 on the cute rating is named Tank. This will change each time the entire code is ran because the the variables are random. \n",
    "\n",
    "We can also print the entire row of information about Tank:"
   ]
  },
  {
   "cell_type": "code",
   "execution_count": 163,
   "id": "631cc541",
   "metadata": {},
   "outputs": [
    {
     "data": {
      "text/html": [
       "<div>\n",
       "<style scoped>\n",
       "    .dataframe tbody tr th:only-of-type {\n",
       "        vertical-align: middle;\n",
       "    }\n",
       "\n",
       "    .dataframe tbody tr th {\n",
       "        vertical-align: top;\n",
       "    }\n",
       "\n",
       "    .dataframe thead th {\n",
       "        text-align: right;\n",
       "    }\n",
       "</style>\n",
       "<table border=\"1\" class=\"dataframe\">\n",
       "  <thead>\n",
       "    <tr style=\"text-align: right;\">\n",
       "      <th></th>\n",
       "      <th>Animal ID</th>\n",
       "      <th>Intake Type</th>\n",
       "      <th>In Date</th>\n",
       "      <th>Pet name</th>\n",
       "      <th>Animal Type</th>\n",
       "      <th>Pet Age</th>\n",
       "      <th>Pet Size</th>\n",
       "      <th>Color</th>\n",
       "      <th>Breed</th>\n",
       "      <th>Sex</th>\n",
       "      <th>URL Link</th>\n",
       "      <th>Crossing</th>\n",
       "      <th>Cute Rating</th>\n",
       "      <th>Family Friendly Score</th>\n",
       "    </tr>\n",
       "  </thead>\n",
       "  <tbody>\n",
       "    <tr>\n",
       "      <th>41</th>\n",
       "      <td>A505071</td>\n",
       "      <td>OWNER SUR</td>\n",
       "      <td>2023-05-19</td>\n",
       "      <td>MILO</td>\n",
       "      <td>CAT</td>\n",
       "      <td>8 YEARS</td>\n",
       "      <td>MED</td>\n",
       "      <td>BROWN / WHITE</td>\n",
       "      <td>DOMESTIC SH</td>\n",
       "      <td>N</td>\n",
       "      <td>http://www.petharbor.com/get_image.asp?res=DET...</td>\n",
       "      <td>NaN</td>\n",
       "      <td>5.792713</td>\n",
       "      <td>9.937907</td>\n",
       "    </tr>\n",
       "  </tbody>\n",
       "</table>\n",
       "</div>"
      ],
      "text/plain": [
       "   Animal ID Intake Type    In Date Pet name Animal Type  Pet Age Pet Size  \\\n",
       "41   A505071   OWNER SUR 2023-05-19     MILO         CAT  8 YEARS      MED   \n",
       "\n",
       "            Color        Breed Sex  \\\n",
       "41  BROWN / WHITE  DOMESTIC SH   N   \n",
       "\n",
       "                                            URL Link  Crossing  Cute Rating  \\\n",
       "41  http://www.petharbor.com/get_image.asp?res=DET...      NaN     5.792713   \n",
       "\n",
       "    Family Friendly Score  \n",
       "41               9.937907  "
      ]
     },
     "execution_count": 163,
     "metadata": {},
     "output_type": "execute_result"
    }
   ],
   "source": [
    "cute5.head(1)"
   ]
  },
  {
   "cell_type": "markdown",
   "id": "3d2ee6e0",
   "metadata": {},
   "source": [
    "2. Method 2: Index of Family Friendly\n",
    "\n",
    "This method uses the function \".idxmax()\" to find the index of the animal that has the maximum value for a given column. "
   ]
  },
  {
   "cell_type": "code",
   "execution_count": 164,
   "id": "ee124be4",
   "metadata": {},
   "outputs": [],
   "source": [
    "cute5_2 = all_data[all_data[\"Cute Rating\"] > 5]\n",
    "\n",
    "max_fam_id = cute5_2['Family Friendly Score'].idxmax()\n",
    "\n",
    "info_max_fam = cute5_2.loc[max_fam_id]\n",
    "\n"
   ]
  },
  {
   "cell_type": "code",
   "execution_count": 165,
   "id": "cc68828b",
   "metadata": {},
   "outputs": [
    {
     "data": {
      "text/plain": [
       "Animal ID                                                          A505071\n",
       "Intake Type                                                      OWNER SUR\n",
       "In Date                                                2023-05-19 00:00:00\n",
       "Pet name                                                              MILO\n",
       "Animal Type                                                            CAT\n",
       "Pet Age                                                            8 YEARS\n",
       "Pet Size                                                               MED\n",
       "Color                                                        BROWN / WHITE\n",
       "Breed                                                          DOMESTIC SH\n",
       "Sex                                                                      N\n",
       "URL Link                 http://www.petharbor.com/get_image.asp?res=DET...\n",
       "Crossing                                                               NaN\n",
       "Cute Rating                                                       5.792713\n",
       "Family Friendly Score                                             9.937907\n",
       "Name: 41, dtype: object"
      ]
     },
     "execution_count": 165,
     "metadata": {},
     "output_type": "execute_result"
    }
   ],
   "source": [
    "info_max_fam"
   ]
  },
  {
   "cell_type": "markdown",
   "id": "355b1d09",
   "metadata": {},
   "source": [
    "#### Example 2:\n",
    "\n",
    "Find the information of the animal who has the biggest gap between their Cute Rating and Family Friendly Score.\n",
    "\n",
    "1. Method 1: Creating a new column\n",
    "\n",
    "The benefit of this method is that it is the simplest to execute."
   ]
  },
  {
   "cell_type": "code",
   "execution_count": 166,
   "id": "400f0a87",
   "metadata": {},
   "outputs": [
    {
     "data": {
      "text/html": [
       "<div>\n",
       "<style scoped>\n",
       "    .dataframe tbody tr th:only-of-type {\n",
       "        vertical-align: middle;\n",
       "    }\n",
       "\n",
       "    .dataframe tbody tr th {\n",
       "        vertical-align: top;\n",
       "    }\n",
       "\n",
       "    .dataframe thead th {\n",
       "        text-align: right;\n",
       "    }\n",
       "</style>\n",
       "<table border=\"1\" class=\"dataframe\">\n",
       "  <thead>\n",
       "    <tr style=\"text-align: right;\">\n",
       "      <th></th>\n",
       "      <th>Animal ID</th>\n",
       "      <th>Intake Type</th>\n",
       "      <th>In Date</th>\n",
       "      <th>Pet name</th>\n",
       "      <th>Animal Type</th>\n",
       "      <th>Pet Age</th>\n",
       "      <th>Pet Size</th>\n",
       "      <th>Color</th>\n",
       "      <th>Breed</th>\n",
       "      <th>Sex</th>\n",
       "      <th>URL Link</th>\n",
       "      <th>Crossing</th>\n",
       "      <th>Cute Rating</th>\n",
       "      <th>Family Friendly Score</th>\n",
       "      <th>Difference</th>\n",
       "    </tr>\n",
       "  </thead>\n",
       "  <tbody>\n",
       "    <tr>\n",
       "      <th>59</th>\n",
       "      <td>A500853</td>\n",
       "      <td>OWNER SUR</td>\n",
       "      <td>2023-02-02</td>\n",
       "      <td>MAXIMILIAN</td>\n",
       "      <td>DOG</td>\n",
       "      <td>8 YEARS</td>\n",
       "      <td>LARGE</td>\n",
       "      <td>BRINDLE</td>\n",
       "      <td>AM PIT BULL TER</td>\n",
       "      <td>N</td>\n",
       "      <td>http://www.petharbor.com/get_image.asp?res=DET...</td>\n",
       "      <td>NaN</td>\n",
       "      <td>0.364240</td>\n",
       "      <td>9.529469</td>\n",
       "      <td>9.165229</td>\n",
       "    </tr>\n",
       "    <tr>\n",
       "      <th>49</th>\n",
       "      <td>A504752</td>\n",
       "      <td>STRAY</td>\n",
       "      <td>2023-05-11</td>\n",
       "      <td>CASSIDY</td>\n",
       "      <td>CAT</td>\n",
       "      <td>1 YEAR 7 MONTHS</td>\n",
       "      <td>MED</td>\n",
       "      <td>BLACK / WHITE</td>\n",
       "      <td>DOMESTIC SH</td>\n",
       "      <td>S</td>\n",
       "      <td>http://www.petharbor.com/get_image.asp?res=DET...</td>\n",
       "      <td>3300 CASTLE RIDGE CIR, SILVER SPRING MD 20904</td>\n",
       "      <td>0.858899</td>\n",
       "      <td>9.963378</td>\n",
       "      <td>9.104479</td>\n",
       "    </tr>\n",
       "  </tbody>\n",
       "</table>\n",
       "</div>"
      ],
      "text/plain": [
       "   Animal ID Intake Type    In Date    Pet name Animal Type          Pet Age  \\\n",
       "59   A500853   OWNER SUR 2023-02-02  MAXIMILIAN         DOG          8 YEARS   \n",
       "49   A504752       STRAY 2023-05-11     CASSIDY         CAT  1 YEAR 7 MONTHS   \n",
       "\n",
       "   Pet Size          Color            Breed Sex  \\\n",
       "59    LARGE        BRINDLE  AM PIT BULL TER   N   \n",
       "49      MED  BLACK / WHITE      DOMESTIC SH   S   \n",
       "\n",
       "                                            URL Link   \\\n",
       "59  http://www.petharbor.com/get_image.asp?res=DET...   \n",
       "49  http://www.petharbor.com/get_image.asp?res=DET...   \n",
       "\n",
       "                                         Crossing  Cute Rating  \\\n",
       "59                                            NaN     0.364240   \n",
       "49  3300 CASTLE RIDGE CIR, SILVER SPRING MD 20904     0.858899   \n",
       "\n",
       "    Family Friendly Score  Difference  \n",
       "59               9.529469    9.165229  \n",
       "49               9.963378    9.104479  "
      ]
     },
     "execution_count": 166,
     "metadata": {},
     "output_type": "execute_result"
    }
   ],
   "source": [
    "disp = all_data\n",
    "disp[\"Difference\"] = abs(disp[\"Cute Rating\"] - disp[\"Family Friendly Score\"])\n",
    "disp = disp.sort_values(\"Difference\", ascending = False)\n",
    "\n",
    "disp.head(2)"
   ]
  },
  {
   "cell_type": "markdown",
   "id": "79a4eea0",
   "metadata": {},
   "source": [
    "Method 2: Using a custom function\n",
    "\n",
    "A benefit of this is that it doesn't create an additional column. It also can be used multiple times for different columns/data sets. "
   ]
  },
  {
   "cell_type": "code",
   "execution_count": 167,
   "id": "53f62efe",
   "metadata": {},
   "outputs": [
    {
     "name": "stdout",
     "output_type": "stream",
     "text": [
      "Animal ID                                                          A500853\n",
      "Intake Type                                                      OWNER SUR\n",
      "In Date                                                2023-02-02 00:00:00\n",
      "Pet name                                                        MAXIMILIAN\n",
      "Animal Type                                                            DOG\n",
      "Pet Age                                                            8 YEARS\n",
      "Pet Size                                                             LARGE\n",
      "Color                                                              BRINDLE\n",
      "Breed                                                      AM PIT BULL TER\n",
      "Sex                                                                      N\n",
      "URL Link                 http://www.petharbor.com/get_image.asp?res=DET...\n",
      "Crossing                                                               NaN\n",
      "Cute Rating                                                        0.36424\n",
      "Family Friendly Score                                             9.529469\n",
      "Difference                                                        9.165229\n",
      "Name: 59, dtype: object\n"
     ]
    }
   ],
   "source": [
    "def find_biggest_difference(data, Column1, Column2):\n",
    "    #takes the data and the two column names. Both should be numbers\n",
    "    #returns the row of the value with the largest difference\n",
    "    df = pd.DataFrame()\n",
    "    df['Difference'] = abs(data[Column1] - data[Column2])\n",
    "    return data.iloc[df[\"Difference\"].idxmax()]\n",
    "\n",
    "biggest_diff = find_biggest_difference(all_data, \"Cute Rating\", \"Family Friendly Score\")\n",
    "\n",
    "print(biggest_diff)"
   ]
  },
  {
   "cell_type": "markdown",
   "id": "1f1b12fb",
   "metadata": {},
   "source": [
    "#### Example 3:\n",
    "\n",
    "What is the average cute rating for each size of animal?\n",
    "\n",
    "Method 1: Creating three new data sets, finding the mean from that:"
   ]
  },
  {
   "cell_type": "code",
   "execution_count": 168,
   "id": "986eb7c8",
   "metadata": {},
   "outputs": [
    {
     "name": "stdout",
     "output_type": "stream",
     "text": [
      "Toy cute average: 3.288726777100676\n",
      "Small cute average: 5.657994726785849\n",
      "Medium cute average: 4.206318485053881\n",
      "Large cute average: 4.957369626394721\n"
     ]
    }
   ],
   "source": [
    "toy = all_data[all_data[\"Pet Size\"] == \"TOY\"]\n",
    "small = all_data[all_data[\"Pet Size\"] == \"SMALL\"]\n",
    "medium = all_data[all_data[\"Pet Size\"] == \"MED\"]\n",
    "large = all_data[all_data[\"Pet Size\"] == \"LARGE\"]\n",
    "\n",
    "print(\"Toy cute average: \" + str(toy[\"Cute Rating\"].mean()))\n",
    "print(\"Small cute average: \" + str(small[\"Cute Rating\"].mean()))\n",
    "print(\"Medium cute average: \" + str(medium[\"Cute Rating\"].mean()))\n",
    "print(\"Large cute average: \" + str(large[\"Cute Rating\"].mean()))"
   ]
  },
  {
   "cell_type": "markdown",
   "id": "f38fa5aa",
   "metadata": {},
   "source": [
    "Method 2: Group by function"
   ]
  },
  {
   "cell_type": "code",
   "execution_count": 169,
   "id": "5d501a49",
   "metadata": {},
   "outputs": [
    {
     "data": {
      "text/plain": [
       "Pet Size\n",
       "LARGE    4.957370\n",
       "MED      4.206318\n",
       "SMALL    5.657995\n",
       "TOY      3.288727\n",
       "Name: Cute Rating, dtype: float64"
      ]
     },
     "execution_count": 169,
     "metadata": {},
     "output_type": "execute_result"
    }
   ],
   "source": [
    "all_data.groupby(\"Pet Size\")[\"Cute Rating\"].mean()"
   ]
  },
  {
   "cell_type": "markdown",
   "id": "0d2aa3d9",
   "metadata": {},
   "source": [
    "#### Example 4\n",
    "\n",
    "We will see if the median intake date for each animal type is different. \n",
    "\n",
    "Method 1: median of new data sets"
   ]
  },
  {
   "cell_type": "code",
   "execution_count": 170,
   "id": "7e240940",
   "metadata": {},
   "outputs": [
    {
     "name": "stdout",
     "output_type": "stream",
     "text": [
      "Cat median intake date: 2023-05-15 00:00:00\n",
      "Dog median intake date: 2023-05-10 00:00:00\n",
      "Livestock median intake date: 2023-02-09 00:00:00\n",
      "Other median intake date: 2023-05-04 00:00:00\n"
     ]
    }
   ],
   "source": [
    "cat = all_data[all_data[\"Animal Type\"] == \"CAT\"]\n",
    "dog = all_data[all_data[\"Animal Type\"] == \"DOG\"]\n",
    "livestock = all_data[all_data[\"Animal Type\"] == \"LIVESTOCK\"]\n",
    "other = all_data[all_data[\"Animal Type\"] == \"OTHER\"]\n",
    "\n",
    "print(\"Cat median intake date: \" + str(cat[\"In Date\"].median()))\n",
    "print(\"Dog median intake date: \" + str(dog[\"In Date\"].median()))\n",
    "print(\"Livestock median intake date: \" + str(livestock[\"In Date\"].median()))\n",
    "print(\"Other median intake date: \" + str(other[\"In Date\"].median()))"
   ]
  },
  {
   "cell_type": "markdown",
   "id": "5b1cca82",
   "metadata": {},
   "source": [
    "Method 2: Group by"
   ]
  },
  {
   "cell_type": "code",
   "execution_count": 171,
   "id": "a9551b55",
   "metadata": {},
   "outputs": [
    {
     "data": {
      "text/plain": [
       "Animal Type\n",
       "CAT         2023-05-15\n",
       "DOG         2023-05-10\n",
       "LIVESTOCK   2023-02-09\n",
       "OTHER       2023-05-04\n",
       "Name: In Date, dtype: datetime64[ns]"
      ]
     },
     "execution_count": 171,
     "metadata": {},
     "output_type": "execute_result"
    }
   ],
   "source": [
    "all_data.groupby(\"Animal Type\")[\"In Date\"].median()"
   ]
  }
 ],
 "metadata": {
  "kernelspec": {
   "display_name": "Python 3 (ipykernel)",
   "language": "python",
   "name": "python3"
  },
  "language_info": {
   "codemirror_mode": {
    "name": "ipython",
    "version": 3
   },
   "file_extension": ".py",
   "mimetype": "text/x-python",
   "name": "python",
   "nbconvert_exporter": "python",
   "pygments_lexer": "ipython3",
   "version": "3.11.4"
  }
 },
 "nbformat": 4,
 "nbformat_minor": 5
}
